{
 "cells": [
  {
   "cell_type": "markdown",
   "id": "5cc9ffcf",
   "metadata": {},
   "source": [
    "<b>Português:</b>  Uso do Pandas para investigar um conjunto de dados, no período de 2008 à 2018, sobre a economia de combustível em diferentes modelos de carros ( all_alpha_08.csv e all_alpha_18.csv).<br> \n",
    "\n",
    "Características dos conjuntos de dados avaliadas:<br> \n",
    "\n",
    "-número de amostras em cada conjunto<br> \n",
    "-número de colunas em cada conjunto<br> \n",
    "-linhas duplicadas em cada conjunto<br> \n",
    "-tipos de dados das colunas<br> \n",
    "-atributos com valor ausente<br> \n",
    "-número de valores únicos não nulos para atributos em cada conjunto.<br> \n",
    "\n",
    "<b>English:</b>  Using Pandas to investigate a dataset, from 2008 to 2018, on fuel economy in different car models (all_alpha_08.csv and all_alpha_18.csv).<br> \n",
    "\n",
    "Characteristics of the evaluated data sets:<br> \n",
    "\n",
    "-number of samples in each set<br> \n",
    "-number of columns in each set<br> \n",
    "-duplicate rows in each set<br> \n",
    "-data types of columns<br> \n",
    "-attributes with missing values<br> \n",
    "-number of unique non-zero values for attributes in each set.<br> "
   ]
  },
  {
   "cell_type": "code",
   "execution_count": 31,
   "id": "d489a4ab",
   "metadata": {},
   "outputs": [],
   "source": [
    "import pandas as pd\n",
    "df_08 = pd.read_csv(\"all-alpha-08.csv\")\n",
    "df_18 = pd.read_csv(\"all-alpha-18.csv\")"
   ]
  },
  {
   "cell_type": "code",
   "execution_count": 32,
   "id": "99437efe",
   "metadata": {},
   "outputs": [
    {
     "name": "stdout",
     "output_type": "stream",
     "text": [
      "df_08\n"
     ]
    },
    {
     "data": {
      "text/html": [
       "<div>\n",
       "<style scoped>\n",
       "    .dataframe tbody tr th:only-of-type {\n",
       "        vertical-align: middle;\n",
       "    }\n",
       "\n",
       "    .dataframe tbody tr th {\n",
       "        vertical-align: top;\n",
       "    }\n",
       "\n",
       "    .dataframe thead th {\n",
       "        text-align: right;\n",
       "    }\n",
       "</style>\n",
       "<table border=\"1\" class=\"dataframe\">\n",
       "  <thead>\n",
       "    <tr style=\"text-align: right;\">\n",
       "      <th></th>\n",
       "      <th>Model</th>\n",
       "      <th>Displ</th>\n",
       "      <th>Cyl</th>\n",
       "      <th>Trans</th>\n",
       "      <th>Drive</th>\n",
       "      <th>Fuel</th>\n",
       "      <th>Sales Area</th>\n",
       "      <th>Stnd</th>\n",
       "      <th>Underhood ID</th>\n",
       "      <th>Veh Class</th>\n",
       "      <th>Air Pollution Score</th>\n",
       "      <th>FE Calc Appr</th>\n",
       "      <th>City MPG</th>\n",
       "      <th>Hwy MPG</th>\n",
       "      <th>Cmb MPG</th>\n",
       "      <th>Unadj Cmb MPG</th>\n",
       "      <th>Greenhouse Gas Score</th>\n",
       "      <th>SmartWay</th>\n",
       "    </tr>\n",
       "  </thead>\n",
       "  <tbody>\n",
       "    <tr>\n",
       "      <th>0</th>\n",
       "      <td>ACURA MDX</td>\n",
       "      <td>3.7</td>\n",
       "      <td>(6 cyl)</td>\n",
       "      <td>Auto-S5</td>\n",
       "      <td>4WD</td>\n",
       "      <td>Gasoline</td>\n",
       "      <td>CA</td>\n",
       "      <td>U2</td>\n",
       "      <td>8HNXT03.7PKR</td>\n",
       "      <td>SUV</td>\n",
       "      <td>7</td>\n",
       "      <td>Drv</td>\n",
       "      <td>15</td>\n",
       "      <td>20</td>\n",
       "      <td>17</td>\n",
       "      <td>22.0527</td>\n",
       "      <td>4</td>\n",
       "      <td>no</td>\n",
       "    </tr>\n",
       "    <tr>\n",
       "      <th>1</th>\n",
       "      <td>ACURA MDX</td>\n",
       "      <td>3.7</td>\n",
       "      <td>(6 cyl)</td>\n",
       "      <td>Auto-S5</td>\n",
       "      <td>4WD</td>\n",
       "      <td>Gasoline</td>\n",
       "      <td>FA</td>\n",
       "      <td>B5</td>\n",
       "      <td>8HNXT03.7PKR</td>\n",
       "      <td>SUV</td>\n",
       "      <td>6</td>\n",
       "      <td>Drv</td>\n",
       "      <td>15</td>\n",
       "      <td>20</td>\n",
       "      <td>17</td>\n",
       "      <td>22.0527</td>\n",
       "      <td>4</td>\n",
       "      <td>no</td>\n",
       "    </tr>\n",
       "    <tr>\n",
       "      <th>2</th>\n",
       "      <td>ACURA RDX</td>\n",
       "      <td>2.3</td>\n",
       "      <td>(4 cyl)</td>\n",
       "      <td>Auto-S5</td>\n",
       "      <td>4WD</td>\n",
       "      <td>Gasoline</td>\n",
       "      <td>CA</td>\n",
       "      <td>U2</td>\n",
       "      <td>8HNXT02.3DKR</td>\n",
       "      <td>SUV</td>\n",
       "      <td>7</td>\n",
       "      <td>Drv</td>\n",
       "      <td>17</td>\n",
       "      <td>22</td>\n",
       "      <td>19</td>\n",
       "      <td>24.1745</td>\n",
       "      <td>5</td>\n",
       "      <td>no</td>\n",
       "    </tr>\n",
       "    <tr>\n",
       "      <th>3</th>\n",
       "      <td>ACURA RDX</td>\n",
       "      <td>2.3</td>\n",
       "      <td>(4 cyl)</td>\n",
       "      <td>Auto-S5</td>\n",
       "      <td>4WD</td>\n",
       "      <td>Gasoline</td>\n",
       "      <td>FA</td>\n",
       "      <td>B5</td>\n",
       "      <td>8HNXT02.3DKR</td>\n",
       "      <td>SUV</td>\n",
       "      <td>6</td>\n",
       "      <td>Drv</td>\n",
       "      <td>17</td>\n",
       "      <td>22</td>\n",
       "      <td>19</td>\n",
       "      <td>24.1745</td>\n",
       "      <td>5</td>\n",
       "      <td>no</td>\n",
       "    </tr>\n",
       "    <tr>\n",
       "      <th>4</th>\n",
       "      <td>ACURA RL</td>\n",
       "      <td>3.5</td>\n",
       "      <td>(6 cyl)</td>\n",
       "      <td>Auto-S5</td>\n",
       "      <td>4WD</td>\n",
       "      <td>Gasoline</td>\n",
       "      <td>CA</td>\n",
       "      <td>U2</td>\n",
       "      <td>8HNXV03.5HKR</td>\n",
       "      <td>midsize car</td>\n",
       "      <td>7</td>\n",
       "      <td>Drv</td>\n",
       "      <td>16</td>\n",
       "      <td>24</td>\n",
       "      <td>19</td>\n",
       "      <td>24.5629</td>\n",
       "      <td>5</td>\n",
       "      <td>no</td>\n",
       "    </tr>\n",
       "  </tbody>\n",
       "</table>\n",
       "</div>"
      ],
      "text/plain": [
       "       Model  Displ      Cyl    Trans Drive      Fuel Sales Area Stnd  \\\n",
       "0  ACURA MDX    3.7  (6 cyl)  Auto-S5   4WD  Gasoline         CA   U2   \n",
       "1  ACURA MDX    3.7  (6 cyl)  Auto-S5   4WD  Gasoline         FA   B5   \n",
       "2  ACURA RDX    2.3  (4 cyl)  Auto-S5   4WD  Gasoline         CA   U2   \n",
       "3  ACURA RDX    2.3  (4 cyl)  Auto-S5   4WD  Gasoline         FA   B5   \n",
       "4   ACURA RL    3.5  (6 cyl)  Auto-S5   4WD  Gasoline         CA   U2   \n",
       "\n",
       "   Underhood ID    Veh Class Air Pollution Score FE Calc Appr City MPG  \\\n",
       "0  8HNXT03.7PKR          SUV                   7          Drv       15   \n",
       "1  8HNXT03.7PKR          SUV                   6          Drv       15   \n",
       "2  8HNXT02.3DKR          SUV                   7          Drv       17   \n",
       "3  8HNXT02.3DKR          SUV                   6          Drv       17   \n",
       "4  8HNXV03.5HKR  midsize car                   7          Drv       16   \n",
       "\n",
       "  Hwy MPG Cmb MPG  Unadj Cmb MPG Greenhouse Gas Score SmartWay  \n",
       "0      20      17        22.0527                    4       no  \n",
       "1      20      17        22.0527                    4       no  \n",
       "2      22      19        24.1745                    5       no  \n",
       "3      22      19        24.1745                    5       no  \n",
       "4      24      19        24.5629                    5       no  "
      ]
     },
     "metadata": {},
     "output_type": "display_data"
    },
    {
     "name": "stdout",
     "output_type": "stream",
     "text": [
      "df_18\n"
     ]
    },
    {
     "data": {
      "text/html": [
       "<div>\n",
       "<style scoped>\n",
       "    .dataframe tbody tr th:only-of-type {\n",
       "        vertical-align: middle;\n",
       "    }\n",
       "\n",
       "    .dataframe tbody tr th {\n",
       "        vertical-align: top;\n",
       "    }\n",
       "\n",
       "    .dataframe thead th {\n",
       "        text-align: right;\n",
       "    }\n",
       "</style>\n",
       "<table border=\"1\" class=\"dataframe\">\n",
       "  <thead>\n",
       "    <tr style=\"text-align: right;\">\n",
       "      <th></th>\n",
       "      <th>Model</th>\n",
       "      <th>Displ</th>\n",
       "      <th>Cyl</th>\n",
       "      <th>Trans</th>\n",
       "      <th>Drive</th>\n",
       "      <th>Fuel</th>\n",
       "      <th>Cert Region</th>\n",
       "      <th>Stnd</th>\n",
       "      <th>Stnd Description</th>\n",
       "      <th>Underhood ID</th>\n",
       "      <th>Veh Class</th>\n",
       "      <th>Air Pollution Score</th>\n",
       "      <th>City MPG</th>\n",
       "      <th>Hwy MPG</th>\n",
       "      <th>Cmb MPG</th>\n",
       "      <th>Greenhouse Gas Score</th>\n",
       "      <th>SmartWay</th>\n",
       "      <th>Comb CO2</th>\n",
       "    </tr>\n",
       "  </thead>\n",
       "  <tbody>\n",
       "    <tr>\n",
       "      <th>0</th>\n",
       "      <td>ACURA RDX</td>\n",
       "      <td>3.5</td>\n",
       "      <td>6.0</td>\n",
       "      <td>SemiAuto-6</td>\n",
       "      <td>2WD</td>\n",
       "      <td>Gasoline</td>\n",
       "      <td>FA</td>\n",
       "      <td>T3B125</td>\n",
       "      <td>Federal Tier 3 Bin 125</td>\n",
       "      <td>JHNXT03.5GV3</td>\n",
       "      <td>small SUV</td>\n",
       "      <td>3</td>\n",
       "      <td>20</td>\n",
       "      <td>28</td>\n",
       "      <td>23</td>\n",
       "      <td>5</td>\n",
       "      <td>No</td>\n",
       "      <td>386</td>\n",
       "    </tr>\n",
       "    <tr>\n",
       "      <th>1</th>\n",
       "      <td>ACURA RDX</td>\n",
       "      <td>3.5</td>\n",
       "      <td>6.0</td>\n",
       "      <td>SemiAuto-6</td>\n",
       "      <td>2WD</td>\n",
       "      <td>Gasoline</td>\n",
       "      <td>CA</td>\n",
       "      <td>U2</td>\n",
       "      <td>California LEV-II ULEV</td>\n",
       "      <td>JHNXT03.5GV3</td>\n",
       "      <td>small SUV</td>\n",
       "      <td>3</td>\n",
       "      <td>20</td>\n",
       "      <td>28</td>\n",
       "      <td>23</td>\n",
       "      <td>5</td>\n",
       "      <td>No</td>\n",
       "      <td>386</td>\n",
       "    </tr>\n",
       "    <tr>\n",
       "      <th>2</th>\n",
       "      <td>ACURA RDX</td>\n",
       "      <td>3.5</td>\n",
       "      <td>6.0</td>\n",
       "      <td>SemiAuto-6</td>\n",
       "      <td>4WD</td>\n",
       "      <td>Gasoline</td>\n",
       "      <td>FA</td>\n",
       "      <td>T3B125</td>\n",
       "      <td>Federal Tier 3 Bin 125</td>\n",
       "      <td>JHNXT03.5GV3</td>\n",
       "      <td>small SUV</td>\n",
       "      <td>3</td>\n",
       "      <td>19</td>\n",
       "      <td>27</td>\n",
       "      <td>22</td>\n",
       "      <td>4</td>\n",
       "      <td>No</td>\n",
       "      <td>402</td>\n",
       "    </tr>\n",
       "    <tr>\n",
       "      <th>3</th>\n",
       "      <td>ACURA RDX</td>\n",
       "      <td>3.5</td>\n",
       "      <td>6.0</td>\n",
       "      <td>SemiAuto-6</td>\n",
       "      <td>4WD</td>\n",
       "      <td>Gasoline</td>\n",
       "      <td>CA</td>\n",
       "      <td>U2</td>\n",
       "      <td>California LEV-II ULEV</td>\n",
       "      <td>JHNXT03.5GV3</td>\n",
       "      <td>small SUV</td>\n",
       "      <td>3</td>\n",
       "      <td>19</td>\n",
       "      <td>27</td>\n",
       "      <td>22</td>\n",
       "      <td>4</td>\n",
       "      <td>No</td>\n",
       "      <td>402</td>\n",
       "    </tr>\n",
       "    <tr>\n",
       "      <th>4</th>\n",
       "      <td>ACURA TLX</td>\n",
       "      <td>2.4</td>\n",
       "      <td>4.0</td>\n",
       "      <td>AMS-8</td>\n",
       "      <td>2WD</td>\n",
       "      <td>Gasoline</td>\n",
       "      <td>CA</td>\n",
       "      <td>L3ULEV125</td>\n",
       "      <td>California LEV-III ULEV125</td>\n",
       "      <td>JHNXV02.4WH3</td>\n",
       "      <td>small car</td>\n",
       "      <td>3</td>\n",
       "      <td>23</td>\n",
       "      <td>33</td>\n",
       "      <td>27</td>\n",
       "      <td>6</td>\n",
       "      <td>No</td>\n",
       "      <td>330</td>\n",
       "    </tr>\n",
       "  </tbody>\n",
       "</table>\n",
       "</div>"
      ],
      "text/plain": [
       "       Model  Displ  Cyl       Trans Drive      Fuel Cert Region       Stnd  \\\n",
       "0  ACURA RDX    3.5  6.0  SemiAuto-6   2WD  Gasoline          FA     T3B125   \n",
       "1  ACURA RDX    3.5  6.0  SemiAuto-6   2WD  Gasoline          CA         U2   \n",
       "2  ACURA RDX    3.5  6.0  SemiAuto-6   4WD  Gasoline          FA     T3B125   \n",
       "3  ACURA RDX    3.5  6.0  SemiAuto-6   4WD  Gasoline          CA         U2   \n",
       "4  ACURA TLX    2.4  4.0       AMS-8   2WD  Gasoline          CA  L3ULEV125   \n",
       "\n",
       "             Stnd Description  Underhood ID  Veh Class  Air Pollution Score  \\\n",
       "0      Federal Tier 3 Bin 125  JHNXT03.5GV3  small SUV                    3   \n",
       "1      California LEV-II ULEV  JHNXT03.5GV3  small SUV                    3   \n",
       "2      Federal Tier 3 Bin 125  JHNXT03.5GV3  small SUV                    3   \n",
       "3      California LEV-II ULEV  JHNXT03.5GV3  small SUV                    3   \n",
       "4  California LEV-III ULEV125  JHNXV02.4WH3  small car                    3   \n",
       "\n",
       "  City MPG Hwy MPG Cmb MPG  Greenhouse Gas Score SmartWay Comb CO2  \n",
       "0       20      28      23                     5       No      386  \n",
       "1       20      28      23                     5       No      386  \n",
       "2       19      27      22                     4       No      402  \n",
       "3       19      27      22                     4       No      402  \n",
       "4       23      33      27                     6       No      330  "
      ]
     },
     "metadata": {},
     "output_type": "display_data"
    }
   ],
   "source": [
    "print(\"df_08\")\n",
    "display(df_08.head())\n",
    "print(\"df_18\")\n",
    "display(df_18.head())"
   ]
  },
  {
   "cell_type": "code",
   "execution_count": 33,
   "id": "4b53682a",
   "metadata": {},
   "outputs": [
    {
     "data": {
      "text/plain": [
       "(2404, 18)"
      ]
     },
     "execution_count": 33,
     "metadata": {},
     "output_type": "execute_result"
    }
   ],
   "source": [
    "df_08.shape"
   ]
  },
  {
   "cell_type": "code",
   "execution_count": 34,
   "id": "ccc4f92f",
   "metadata": {},
   "outputs": [
    {
     "data": {
      "text/plain": [
       "(1611, 18)"
      ]
     },
     "execution_count": 34,
     "metadata": {},
     "output_type": "execute_result"
    }
   ],
   "source": [
    "df_18.shape"
   ]
  },
  {
   "cell_type": "code",
   "execution_count": 35,
   "id": "b7c92b34",
   "metadata": {},
   "outputs": [
    {
     "name": "stdout",
     "output_type": "stream",
     "text": [
      "Numero de amostras - 2008: 2404\n"
     ]
    }
   ],
   "source": [
    "print(\"Numero de amostras - 2008: {0}\".format(df_08.shape[0])) #number of samples on 2008 data set"
   ]
  },
  {
   "cell_type": "code",
   "execution_count": 36,
   "id": "4c399aae",
   "metadata": {},
   "outputs": [
    {
     "name": "stdout",
     "output_type": "stream",
     "text": [
      "Numero de amostras - 2018: 1611\n"
     ]
    }
   ],
   "source": [
    "print(\"Numero de amostras - 2018: {0}\".format(df_18.shape[0])) #number of samples on 2018 data set"
   ]
  },
  {
   "cell_type": "code",
   "execution_count": 37,
   "id": "d8b2a838",
   "metadata": {},
   "outputs": [
    {
     "name": "stdout",
     "output_type": "stream",
     "text": [
      "Numero de colunas - 2008: 18\n"
     ]
    }
   ],
   "source": [
    "print(\"Numero de colunas - 2008: {0}\".format(df_08.shape[1])) #number of columns on 2008 data set"
   ]
  },
  {
   "cell_type": "code",
   "execution_count": 38,
   "id": "a3db27e4",
   "metadata": {},
   "outputs": [
    {
     "name": "stdout",
     "output_type": "stream",
     "text": [
      "Numero de colunas - 2018: 18\n"
     ]
    }
   ],
   "source": [
    "print(\"Numero de colunas - 2018: {0}\".format(df_18.shape[1])) #number of samples on 2018 data set"
   ]
  },
  {
   "cell_type": "code",
   "execution_count": 39,
   "id": "d1a266b7",
   "metadata": {},
   "outputs": [
    {
     "data": {
      "text/plain": [
       "25"
      ]
     },
     "execution_count": 39,
     "metadata": {},
     "output_type": "execute_result"
    }
   ],
   "source": [
    "df_08.duplicated().sum()"
   ]
  },
  {
   "cell_type": "code",
   "execution_count": 40,
   "id": "b6f0551c",
   "metadata": {},
   "outputs": [
    {
     "name": "stdout",
     "output_type": "stream",
     "text": [
      "Numero de linhas duplicadas - 2008: 25\n"
     ]
    }
   ],
   "source": [
    "print(\"Numero de linhas duplicadas - 2008: {0}\".format(df_08.duplicated().sum())) #number of duplicated lines on 2008 data set"
   ]
  },
  {
   "cell_type": "code",
   "execution_count": 41,
   "id": "69338744",
   "metadata": {},
   "outputs": [
    {
     "data": {
      "text/plain": [
       "0"
      ]
     },
     "execution_count": 41,
     "metadata": {},
     "output_type": "execute_result"
    }
   ],
   "source": [
    "df_18.duplicated().sum()"
   ]
  },
  {
   "cell_type": "code",
   "execution_count": 42,
   "id": "372701f8",
   "metadata": {},
   "outputs": [
    {
     "name": "stdout",
     "output_type": "stream",
     "text": [
      "Numero de linhas duplicadas - 2018: 0\n"
     ]
    }
   ],
   "source": [
    "print(\"Numero de linhas duplicadas - 2018: {0}\".format(df_18.duplicated().sum())) #number of duplicated lines on 2018 data set"
   ]
  },
  {
   "cell_type": "code",
   "execution_count": 43,
   "id": "372d293f",
   "metadata": {},
   "outputs": [
    {
     "data": {
      "text/plain": [
       "Model                    object\n",
       "Displ                   float64\n",
       "Cyl                      object\n",
       "Trans                    object\n",
       "Drive                    object\n",
       "Fuel                     object\n",
       "Sales Area               object\n",
       "Stnd                     object\n",
       "Underhood ID             object\n",
       "Veh Class                object\n",
       "Air Pollution Score      object\n",
       "FE Calc Appr             object\n",
       "City MPG                 object\n",
       "Hwy MPG                  object\n",
       "Cmb MPG                  object\n",
       "Unadj Cmb MPG           float64\n",
       "Greenhouse Gas Score     object\n",
       "SmartWay                 object\n",
       "dtype: object"
      ]
     },
     "execution_count": 43,
     "metadata": {},
     "output_type": "execute_result"
    }
   ],
   "source": [
    "df_08.dtypes "
   ]
  },
  {
   "cell_type": "code",
   "execution_count": 44,
   "id": "41b2a8a2",
   "metadata": {},
   "outputs": [
    {
     "data": {
      "text/plain": [
       "Model                    object\n",
       "Displ                   float64\n",
       "Cyl                     float64\n",
       "Trans                    object\n",
       "Drive                    object\n",
       "Fuel                     object\n",
       "Cert Region              object\n",
       "Stnd                     object\n",
       "Stnd Description         object\n",
       "Underhood ID             object\n",
       "Veh Class                object\n",
       "Air Pollution Score       int64\n",
       "City MPG                 object\n",
       "Hwy MPG                  object\n",
       "Cmb MPG                  object\n",
       "Greenhouse Gas Score      int64\n",
       "SmartWay                 object\n",
       "Comb CO2                 object\n",
       "dtype: object"
      ]
     },
     "execution_count": 44,
     "metadata": {},
     "output_type": "execute_result"
    }
   ],
   "source": [
    "df_18.dtypes "
   ]
  },
  {
   "cell_type": "code",
   "execution_count": 45,
   "id": "fb9c72d3",
   "metadata": {},
   "outputs": [
    {
     "name": "stdout",
     "output_type": "stream",
     "text": [
      "coluna: Model, tipo: <class 'str'>\n",
      "coluna: Displ, tipo: <class 'numpy.float64'>\n",
      "coluna: Cyl, tipo: <class 'str'>\n",
      "coluna: Trans, tipo: <class 'str'>\n",
      "coluna: Drive, tipo: <class 'str'>\n",
      "coluna: Fuel, tipo: <class 'str'>\n",
      "coluna: Sales Area, tipo: <class 'str'>\n",
      "coluna: Stnd, tipo: <class 'str'>\n",
      "coluna: Underhood ID, tipo: <class 'str'>\n",
      "coluna: Veh Class, tipo: <class 'str'>\n",
      "coluna: Air Pollution Score, tipo: <class 'str'>\n",
      "coluna: FE Calc Appr, tipo: <class 'str'>\n",
      "coluna: City MPG, tipo: <class 'str'>\n",
      "coluna: Hwy MPG, tipo: <class 'str'>\n",
      "coluna: Cmb MPG, tipo: <class 'str'>\n",
      "coluna: Unadj Cmb MPG, tipo: <class 'numpy.float64'>\n",
      "coluna: Greenhouse Gas Score, tipo: <class 'str'>\n",
      "coluna: SmartWay, tipo: <class 'str'>\n"
     ]
    }
   ],
   "source": [
    "def check_types(df): #data types of columns on data set 2008\n",
    "    for column in df.columns:\n",
    "        print(\"coluna: {0}, tipo: {1}\".format(column, type(df[column][0])))\n",
    "check_types(df_08)"
   ]
  },
  {
   "cell_type": "code",
   "execution_count": 46,
   "id": "88bd6b27",
   "metadata": {},
   "outputs": [
    {
     "name": "stdout",
     "output_type": "stream",
     "text": [
      "coluna: Model, tipo: <class 'str'>\n",
      "coluna: Displ, tipo: <class 'numpy.float64'>\n",
      "coluna: Cyl, tipo: <class 'numpy.float64'>\n",
      "coluna: Trans, tipo: <class 'str'>\n",
      "coluna: Drive, tipo: <class 'str'>\n",
      "coluna: Fuel, tipo: <class 'str'>\n",
      "coluna: Cert Region, tipo: <class 'str'>\n",
      "coluna: Stnd, tipo: <class 'str'>\n",
      "coluna: Stnd Description, tipo: <class 'str'>\n",
      "coluna: Underhood ID, tipo: <class 'str'>\n",
      "coluna: Veh Class, tipo: <class 'str'>\n",
      "coluna: Air Pollution Score, tipo: <class 'numpy.int64'>\n",
      "coluna: City MPG, tipo: <class 'str'>\n",
      "coluna: Hwy MPG, tipo: <class 'str'>\n",
      "coluna: Cmb MPG, tipo: <class 'str'>\n",
      "coluna: Greenhouse Gas Score, tipo: <class 'numpy.int64'>\n",
      "coluna: SmartWay, tipo: <class 'str'>\n",
      "coluna: Comb CO2, tipo: <class 'str'>\n"
     ]
    }
   ],
   "source": [
    "check_types(df_18) #data types of columns on data set 2018"
   ]
  },
  {
   "cell_type": "markdown",
   "id": "fed0a097",
   "metadata": {},
   "source": [
    "Abaixo o cálculo da quantidade de linhas sem dados em cada tabela:<br> \n",
    "(Obs. para colunas o código seria df.isnull().any())\n",
    "\n",
    "Below is the calculation of the number of rows without data in each data set:<br> \n",
    "(Note: for columns the code would be df.isnull().any())"
   ]
  },
  {
   "cell_type": "code",
   "execution_count": 47,
   "id": "e0704fc7",
   "metadata": {},
   "outputs": [
    {
     "data": {
      "text/plain": [
       "199"
      ]
     },
     "execution_count": 47,
     "metadata": {},
     "output_type": "execute_result"
    }
   ],
   "source": [
    "df_08.isnull().any(axis=1).sum()"
   ]
  },
  {
   "cell_type": "code",
   "execution_count": 48,
   "id": "be8165b6",
   "metadata": {},
   "outputs": [
    {
     "data": {
      "text/plain": [
       "2"
      ]
     },
     "execution_count": 48,
     "metadata": {},
     "output_type": "execute_result"
    }
   ],
   "source": [
    "df_18.isnull().any(axis=1).sum()"
   ]
  },
  {
   "cell_type": "markdown",
   "id": "60738701",
   "metadata": {},
   "source": [
    "Número de valores únicos não nulos para atributos em cada conjunto. <br> \n",
    "Onde cada um desses tipos de combustível se apresenta?\n",
    "\n",
    "Number of unique non-zero values for attributes in each set. <br>\n",
    "Where do each of these fuel types appear?"
   ]
  },
  {
   "cell_type": "code",
   "execution_count": 49,
   "id": "e8e0271f",
   "metadata": {},
   "outputs": [
    {
     "data": {
      "text/plain": [
       "5"
      ]
     },
     "metadata": {},
     "output_type": "display_data"
    }
   ],
   "source": [
    "Fuel_options=df_08['Fuel'].nunique()  # number of unique non-zero values for attributes for 2008 data set\n",
    "display(Fuel_options)"
   ]
  },
  {
   "cell_type": "code",
   "execution_count": 50,
   "id": "bc3bfc0b",
   "metadata": {},
   "outputs": [
    {
     "data": {
      "text/plain": [
       "5"
      ]
     },
     "metadata": {},
     "output_type": "display_data"
    }
   ],
   "source": [
    "Fuel_options=df_18['Fuel'].nunique() # number of unique non-zero values for attributes for 2018 data set\n",
    "display(Fuel_options)"
   ]
  },
  {
   "cell_type": "code",
   "execution_count": 51,
   "id": "9989cfe6",
   "metadata": {},
   "outputs": [
    {
     "data": {
      "text/plain": [
       "array(['Gasoline', 'ethanol/gas', 'ethanol', 'diesel', 'CNG'],\n",
       "      dtype=object)"
      ]
     },
     "execution_count": 51,
     "metadata": {},
     "output_type": "execute_result"
    }
   ],
   "source": [
    "df_08[\"Fuel\"].unique()"
   ]
  },
  {
   "cell_type": "code",
   "execution_count": 52,
   "id": "fe6718e5",
   "metadata": {},
   "outputs": [
    {
     "data": {
      "text/plain": [
       "array(['Gasoline', 'Gasoline/Electricity', 'Diesel', 'Ethanol/Gas',\n",
       "       'Electricity'], dtype=object)"
      ]
     },
     "execution_count": 52,
     "metadata": {},
     "output_type": "execute_result"
    }
   ],
   "source": [
    "df_18[\"Fuel\"].unique() "
   ]
  },
  {
   "cell_type": "markdown",
   "id": "4ffbd634",
   "metadata": {},
   "source": [
    "Gasoline: 2008, 2018 <br> \n",
    "Etanol/gas: 2008, 2018 <br> \n",
    "Gasoline/electricity: 2018 <br> \n",
    "GNV: nenhum <br> \n",
    "Electricity: 2018 <br> "
   ]
  },
  {
   "cell_type": "markdown",
   "id": "c52f8dac",
   "metadata": {},
   "source": [
    "número de amostras em cada conjunto: df8=2404. df18=1611\n",
    "número de colunas em cada conjunto:18\n",
    "linhas duplicadas em cada conjunto:df8=25, df18=0\n",
    "tipos de dados das colunas: In[17] e In[18] (células acima)\n",
    "atributos com valor ausente: df8=199, df18=2\n",
    "número de valores únicos não nulos para atributos em cada conjunto: 5"
   ]
  },
  {
   "cell_type": "markdown",
   "id": "48dcb4d9",
   "metadata": {},
   "source": [
    "Fonte dados: https://www.epa.gov/compliance-and-fuel-economy-data/data-cars-used-testing-fuel-economy </b> \n",
    "\n",
    "Data source: https://www.epa.gov/compliance-and-fuel-economy-data/data-cars-used-testing-fuel-economy </b>\n"
   ]
  }
 ],
 "metadata": {
  "kernelspec": {
   "display_name": "Python 3 (ipykernel)",
   "language": "python",
   "name": "python3"
  },
  "language_info": {
   "codemirror_mode": {
    "name": "ipython",
    "version": 3
   },
   "file_extension": ".py",
   "mimetype": "text/x-python",
   "name": "python",
   "nbconvert_exporter": "python",
   "pygments_lexer": "ipython3",
   "version": "3.9.13"
  }
 },
 "nbformat": 4,
 "nbformat_minor": 5
}
